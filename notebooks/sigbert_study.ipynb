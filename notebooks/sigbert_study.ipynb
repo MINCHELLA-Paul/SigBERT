{
 "cells": [
  {
   "cell_type": "markdown",
   "id": "3b0d3fc6-d030-4617-a175-d32f25e95246",
   "metadata": {},
   "source": [
    "# SigBERT *(P. Minchella et al., 2025)*\n",
    "\n",
    "This notebook is an application companion to the paper:\n",
    "\n",
    "**SigBERT: Combining Narrative Medical Reports and Rough Path Signature Theory for Survival Prediction in Oncology**\n",
    "\n",
    "---\n",
    "\n",
    "## Summary of the Method\n",
    "\n",
    "The pipeline performs time-to-event prediction using longitudinal narrative data, following these steps:\n",
    "\n",
    "1. **Sentence Embeddings**: Each medical report is transformed into a high-dimensional vector (typically using a language model such as OncoBERT (RoBERTa-based architecture).\n",
    "2. **Dimensionality Reduction**: A linear compression (e.g., Johnson-Lindenstrauss mapping or PCA) reduces the embedding size for computational efficiency.\n",
    "3. **Signature Extraction**: Path signature theory (up to order 2 or 3) is applied to capture the time dynamics of these compressed embeddings.\n",
    "4. **Survival Modeling**: A LASSO-regularized Cox model is trained on these signature features to estimate risk scores and survival times.\n",
    "5. **Evaluation**: C-index, time-dependent AUC, Brier Score, and Integrated Brier Score (IBS) are used for evaluation, with extensive validation over varying observation depths.\n",
    "\n",
    "---\n",
    "\n",
    "## Requirements for Using This Notebook with Your Data\n",
    "\n",
    "Ensure your column names follow the naming convention described in the README.\n",
    "\n",
    "**Note**: If your dataset only provides the event duration (in days) without an explicit `date_start`, you can create `date_start` by subtracting the duration from a fixed reference date such as `\"1970-01-01\"` or `\"2000-01-01\"`. Then compute `date_end` by adding the duration.\n",
    "\n",
    "Once your data is properly preprocessed, you're ready to run the notebook."
   ]
  },
  {
   "cell_type": "code",
   "execution_count": 1,
   "id": "a98db970-f81c-453e-8f9b-eb68b8d37182",
   "metadata": {},
   "outputs": [],
   "source": [
    "import types\n",
    "import sys\n",
    "from numbers import Real, Integral\n",
    "\n",
    "# Create a fake module to emulate 'sklearn.utils._param_validation'\n",
    "# (used by skglm in newer versions of scikit-learn, >=1.3)\n",
    "param_validation = types.ModuleType(\"sklearn.utils._param_validation\")\n",
    "\n",
    "# Define a minimal replacement for Interval used in _parameter_constraints\n",
    "class Interval:\n",
    "    def __init__(self, dtype, left, right, closed=\"neither\"):\n",
    "        self.dtype = dtype\n",
    "        self.left = left\n",
    "        self.right = right\n",
    "        self.closed = closed\n",
    "\n",
    "# Define a minimal replacement for StrOptions used in _parameter_constraints\n",
    "class StrOptions:\n",
    "    def __init__(self, options):\n",
    "        self.options = set(options)\n",
    "\n",
    "# Add the custom classes to the fake module\n",
    "param_validation.Interval = Interval\n",
    "param_validation.StrOptions = StrOptions\n",
    "\n",
    "# Inject the fake module into sys.modules before skglm is imported\n",
    "# This prevents skglm from raising an ImportError if sklearn < 1.3\n",
    "sys.modules[\"sklearn.utils._param_validation\"] = param_validation"
   ]
  },
  {
   "cell_type": "code",
   "execution_count": 2,
   "id": "61a716ed-4dbd-42ef-a9c1-85cac792135d",
   "metadata": {},
   "outputs": [],
   "source": [
    "import pandas as pd\n",
    "import torch\n",
    "import numpy as np\n",
    "import time\n",
    "import warnings\n",
    "from tqdm import tqdm\n",
    "import matplotlib.pyplot as plt\n",
    "import seaborn as sns"
   ]
  },
  {
   "cell_type": "code",
   "execution_count": 3,
   "id": "24eb17b3",
   "metadata": {},
   "outputs": [
    {
     "name": "stderr",
     "output_type": "stream",
     "text": [
      "/Applications/anaconda3/envs/sigbert-env/lib/python3.8/site-packages/tqdm/auto.py:21: TqdmWarning: IProgress not found. Please update jupyter and ipywidgets. See https://ipywidgets.readthedocs.io/en/stable/user_install.html\n",
      "  from .autonotebook import tqdm as notebook_tqdm\n"
     ]
    }
   ],
   "source": [
    "import os\n",
    "\n",
    "# Add the src directory to the Python path\n",
    "notebook_dir = os.path.dirname(os.path.abspath(\"__file__\"))\n",
    "src_path = os.path.abspath(os.path.join(notebook_dir, '..', 'src/sigbert'))\n",
    "if src_path not in sys.path:\n",
    "    sys.path.insert(0, src_path)\n",
    "\n",
    "# Now import our custom modules\n",
    "from _utils import *\n",
    "from descriptive_stats_pkg import *\n",
    "from compression_pkg import *\n",
    "from survival_analysis_pkg import *\n",
    "from metrics_plot_results_pkg import *"
   ]
  },
  {
   "cell_type": "code",
   "execution_count": 4,
   "id": "3ceccbee-b8b0-4537-937c-d920309c6abe",
   "metadata": {},
   "outputs": [],
   "source": [
    "start_notebook = time.time()"
   ]
  },
  {
   "cell_type": "markdown",
   "id": "3c835143-55b1-492b-ad95-4d5d498aea7a",
   "metadata": {},
   "source": [
    "# I) Data Importation"
   ]
  },
  {
   "cell_type": "code",
   "execution_count": 5,
   "id": "7b5df8da",
   "metadata": {},
   "outputs": [
    {
     "ename": "FileNotFoundError",
     "evalue": "[Errno 2] No such file or directory: '../data/data_real.csv'",
     "output_type": "error",
     "traceback": [
      "\u001b[0;31m---------------------------------------------------------------------------\u001b[0m",
      "\u001b[0;31mFileNotFoundError\u001b[0m                         Traceback (most recent call last)",
      "Cell \u001b[0;32mIn[5], line 1\u001b[0m\n\u001b[0;32m----> 1\u001b[0m df_OG \u001b[38;5;241m=\u001b[39m \u001b[43mglobal_data_import\u001b[49m\u001b[43m(\u001b[49m\u001b[43mpath_import\u001b[49m\u001b[43m \u001b[49m\u001b[38;5;241;43m=\u001b[39;49m\u001b[43m \u001b[49m\u001b[38;5;124;43m\"\u001b[39;49m\u001b[38;5;124;43m../data/data_real.csv\u001b[39;49m\u001b[38;5;124;43m\"\u001b[39;49m\u001b[43m,\u001b[49m\u001b[43m \u001b[49m\u001b[43mnrows\u001b[49m\u001b[38;5;241;43m=\u001b[39;49m\u001b[38;5;28;43;01mNone\u001b[39;49;00m\u001b[43m)\u001b[49m\n",
      "File \u001b[0;32m~/CLB_main/WORK_SMADCC/GITHUB ECML/src/sigbert/_utils.py:389\u001b[0m, in \u001b[0;36mglobal_data_import\u001b[0;34m(path_import, var_id, var_embd_str, var_embd_out, verbose, nrows)\u001b[0m\n\u001b[1;32m    386\u001b[0m     path_import \u001b[38;5;241m=\u001b[39m [path_import]\n\u001b[1;32m    388\u001b[0m \u001b[38;5;66;03m# Read and concatenate all CSVs (optionally limiting rows)\u001b[39;00m\n\u001b[0;32m--> 389\u001b[0m df \u001b[38;5;241m=\u001b[39m pd\u001b[38;5;241m.\u001b[39mconcat([pd\u001b[38;5;241m.\u001b[39mread_csv(path, nrows\u001b[38;5;241m=\u001b[39mnrows) \u001b[38;5;28;01mfor\u001b[39;00m path \u001b[38;5;129;01min\u001b[39;00m path_import], ignore_index\u001b[38;5;241m=\u001b[39m\u001b[38;5;28;01mTrue\u001b[39;00m)\n\u001b[1;32m    391\u001b[0m \u001b[38;5;66;03m# Parse embeddings from string to numpy array\u001b[39;00m\n\u001b[1;32m    392\u001b[0m df[var_embd_out] \u001b[38;5;241m=\u001b[39m df[var_embd_str]\u001b[38;5;241m.\u001b[39mapply(\u001b[38;5;28;01mlambda\u001b[39;00m x: np\u001b[38;5;241m.\u001b[39mfromstring(x, sep\u001b[38;5;241m=\u001b[39m\u001b[38;5;124m'\u001b[39m\u001b[38;5;124m \u001b[39m\u001b[38;5;124m'\u001b[39m))\n",
      "File \u001b[0;32m~/CLB_main/WORK_SMADCC/GITHUB ECML/src/sigbert/_utils.py:389\u001b[0m, in \u001b[0;36m<listcomp>\u001b[0;34m(.0)\u001b[0m\n\u001b[1;32m    386\u001b[0m     path_import \u001b[38;5;241m=\u001b[39m [path_import]\n\u001b[1;32m    388\u001b[0m \u001b[38;5;66;03m# Read and concatenate all CSVs (optionally limiting rows)\u001b[39;00m\n\u001b[0;32m--> 389\u001b[0m df \u001b[38;5;241m=\u001b[39m pd\u001b[38;5;241m.\u001b[39mconcat([\u001b[43mpd\u001b[49m\u001b[38;5;241;43m.\u001b[39;49m\u001b[43mread_csv\u001b[49m\u001b[43m(\u001b[49m\u001b[43mpath\u001b[49m\u001b[43m,\u001b[49m\u001b[43m \u001b[49m\u001b[43mnrows\u001b[49m\u001b[38;5;241;43m=\u001b[39;49m\u001b[43mnrows\u001b[49m\u001b[43m)\u001b[49m \u001b[38;5;28;01mfor\u001b[39;00m path \u001b[38;5;129;01min\u001b[39;00m path_import], ignore_index\u001b[38;5;241m=\u001b[39m\u001b[38;5;28;01mTrue\u001b[39;00m)\n\u001b[1;32m    391\u001b[0m \u001b[38;5;66;03m# Parse embeddings from string to numpy array\u001b[39;00m\n\u001b[1;32m    392\u001b[0m df[var_embd_out] \u001b[38;5;241m=\u001b[39m df[var_embd_str]\u001b[38;5;241m.\u001b[39mapply(\u001b[38;5;28;01mlambda\u001b[39;00m x: np\u001b[38;5;241m.\u001b[39mfromstring(x, sep\u001b[38;5;241m=\u001b[39m\u001b[38;5;124m'\u001b[39m\u001b[38;5;124m \u001b[39m\u001b[38;5;124m'\u001b[39m))\n",
      "File \u001b[0;32m/Applications/anaconda3/envs/sigbert-env/lib/python3.8/site-packages/pandas/io/parsers/readers.py:912\u001b[0m, in \u001b[0;36mread_csv\u001b[0;34m(filepath_or_buffer, sep, delimiter, header, names, index_col, usecols, dtype, engine, converters, true_values, false_values, skipinitialspace, skiprows, skipfooter, nrows, na_values, keep_default_na, na_filter, verbose, skip_blank_lines, parse_dates, infer_datetime_format, keep_date_col, date_parser, date_format, dayfirst, cache_dates, iterator, chunksize, compression, thousands, decimal, lineterminator, quotechar, quoting, doublequote, escapechar, comment, encoding, encoding_errors, dialect, on_bad_lines, delim_whitespace, low_memory, memory_map, float_precision, storage_options, dtype_backend)\u001b[0m\n\u001b[1;32m    899\u001b[0m kwds_defaults \u001b[38;5;241m=\u001b[39m _refine_defaults_read(\n\u001b[1;32m    900\u001b[0m     dialect,\n\u001b[1;32m    901\u001b[0m     delimiter,\n\u001b[0;32m   (...)\u001b[0m\n\u001b[1;32m    908\u001b[0m     dtype_backend\u001b[38;5;241m=\u001b[39mdtype_backend,\n\u001b[1;32m    909\u001b[0m )\n\u001b[1;32m    910\u001b[0m kwds\u001b[38;5;241m.\u001b[39mupdate(kwds_defaults)\n\u001b[0;32m--> 912\u001b[0m \u001b[38;5;28;01mreturn\u001b[39;00m \u001b[43m_read\u001b[49m\u001b[43m(\u001b[49m\u001b[43mfilepath_or_buffer\u001b[49m\u001b[43m,\u001b[49m\u001b[43m \u001b[49m\u001b[43mkwds\u001b[49m\u001b[43m)\u001b[49m\n",
      "File \u001b[0;32m/Applications/anaconda3/envs/sigbert-env/lib/python3.8/site-packages/pandas/io/parsers/readers.py:577\u001b[0m, in \u001b[0;36m_read\u001b[0;34m(filepath_or_buffer, kwds)\u001b[0m\n\u001b[1;32m    574\u001b[0m _validate_names(kwds\u001b[38;5;241m.\u001b[39mget(\u001b[38;5;124m\"\u001b[39m\u001b[38;5;124mnames\u001b[39m\u001b[38;5;124m\"\u001b[39m, \u001b[38;5;28;01mNone\u001b[39;00m))\n\u001b[1;32m    576\u001b[0m \u001b[38;5;66;03m# Create the parser.\u001b[39;00m\n\u001b[0;32m--> 577\u001b[0m parser \u001b[38;5;241m=\u001b[39m \u001b[43mTextFileReader\u001b[49m\u001b[43m(\u001b[49m\u001b[43mfilepath_or_buffer\u001b[49m\u001b[43m,\u001b[49m\u001b[43m \u001b[49m\u001b[38;5;241;43m*\u001b[39;49m\u001b[38;5;241;43m*\u001b[39;49m\u001b[43mkwds\u001b[49m\u001b[43m)\u001b[49m\n\u001b[1;32m    579\u001b[0m \u001b[38;5;28;01mif\u001b[39;00m chunksize \u001b[38;5;129;01mor\u001b[39;00m iterator:\n\u001b[1;32m    580\u001b[0m     \u001b[38;5;28;01mreturn\u001b[39;00m parser\n",
      "File \u001b[0;32m/Applications/anaconda3/envs/sigbert-env/lib/python3.8/site-packages/pandas/io/parsers/readers.py:1407\u001b[0m, in \u001b[0;36mTextFileReader.__init__\u001b[0;34m(self, f, engine, **kwds)\u001b[0m\n\u001b[1;32m   1404\u001b[0m     \u001b[38;5;28mself\u001b[39m\u001b[38;5;241m.\u001b[39moptions[\u001b[38;5;124m\"\u001b[39m\u001b[38;5;124mhas_index_names\u001b[39m\u001b[38;5;124m\"\u001b[39m] \u001b[38;5;241m=\u001b[39m kwds[\u001b[38;5;124m\"\u001b[39m\u001b[38;5;124mhas_index_names\u001b[39m\u001b[38;5;124m\"\u001b[39m]\n\u001b[1;32m   1406\u001b[0m \u001b[38;5;28mself\u001b[39m\u001b[38;5;241m.\u001b[39mhandles: IOHandles \u001b[38;5;241m|\u001b[39m \u001b[38;5;28;01mNone\u001b[39;00m \u001b[38;5;241m=\u001b[39m \u001b[38;5;28;01mNone\u001b[39;00m\n\u001b[0;32m-> 1407\u001b[0m \u001b[38;5;28mself\u001b[39m\u001b[38;5;241m.\u001b[39m_engine \u001b[38;5;241m=\u001b[39m \u001b[38;5;28;43mself\u001b[39;49m\u001b[38;5;241;43m.\u001b[39;49m\u001b[43m_make_engine\u001b[49m\u001b[43m(\u001b[49m\u001b[43mf\u001b[49m\u001b[43m,\u001b[49m\u001b[43m \u001b[49m\u001b[38;5;28;43mself\u001b[39;49m\u001b[38;5;241;43m.\u001b[39;49m\u001b[43mengine\u001b[49m\u001b[43m)\u001b[49m\n",
      "File \u001b[0;32m/Applications/anaconda3/envs/sigbert-env/lib/python3.8/site-packages/pandas/io/parsers/readers.py:1661\u001b[0m, in \u001b[0;36mTextFileReader._make_engine\u001b[0;34m(self, f, engine)\u001b[0m\n\u001b[1;32m   1659\u001b[0m     \u001b[38;5;28;01mif\u001b[39;00m \u001b[38;5;124m\"\u001b[39m\u001b[38;5;124mb\u001b[39m\u001b[38;5;124m\"\u001b[39m \u001b[38;5;129;01mnot\u001b[39;00m \u001b[38;5;129;01min\u001b[39;00m mode:\n\u001b[1;32m   1660\u001b[0m         mode \u001b[38;5;241m+\u001b[39m\u001b[38;5;241m=\u001b[39m \u001b[38;5;124m\"\u001b[39m\u001b[38;5;124mb\u001b[39m\u001b[38;5;124m\"\u001b[39m\n\u001b[0;32m-> 1661\u001b[0m \u001b[38;5;28mself\u001b[39m\u001b[38;5;241m.\u001b[39mhandles \u001b[38;5;241m=\u001b[39m \u001b[43mget_handle\u001b[49m\u001b[43m(\u001b[49m\n\u001b[1;32m   1662\u001b[0m \u001b[43m    \u001b[49m\u001b[43mf\u001b[49m\u001b[43m,\u001b[49m\n\u001b[1;32m   1663\u001b[0m \u001b[43m    \u001b[49m\u001b[43mmode\u001b[49m\u001b[43m,\u001b[49m\n\u001b[1;32m   1664\u001b[0m \u001b[43m    \u001b[49m\u001b[43mencoding\u001b[49m\u001b[38;5;241;43m=\u001b[39;49m\u001b[38;5;28;43mself\u001b[39;49m\u001b[38;5;241;43m.\u001b[39;49m\u001b[43moptions\u001b[49m\u001b[38;5;241;43m.\u001b[39;49m\u001b[43mget\u001b[49m\u001b[43m(\u001b[49m\u001b[38;5;124;43m\"\u001b[39;49m\u001b[38;5;124;43mencoding\u001b[39;49m\u001b[38;5;124;43m\"\u001b[39;49m\u001b[43m,\u001b[49m\u001b[43m \u001b[49m\u001b[38;5;28;43;01mNone\u001b[39;49;00m\u001b[43m)\u001b[49m\u001b[43m,\u001b[49m\n\u001b[1;32m   1665\u001b[0m \u001b[43m    \u001b[49m\u001b[43mcompression\u001b[49m\u001b[38;5;241;43m=\u001b[39;49m\u001b[38;5;28;43mself\u001b[39;49m\u001b[38;5;241;43m.\u001b[39;49m\u001b[43moptions\u001b[49m\u001b[38;5;241;43m.\u001b[39;49m\u001b[43mget\u001b[49m\u001b[43m(\u001b[49m\u001b[38;5;124;43m\"\u001b[39;49m\u001b[38;5;124;43mcompression\u001b[39;49m\u001b[38;5;124;43m\"\u001b[39;49m\u001b[43m,\u001b[49m\u001b[43m \u001b[49m\u001b[38;5;28;43;01mNone\u001b[39;49;00m\u001b[43m)\u001b[49m\u001b[43m,\u001b[49m\n\u001b[1;32m   1666\u001b[0m \u001b[43m    \u001b[49m\u001b[43mmemory_map\u001b[49m\u001b[38;5;241;43m=\u001b[39;49m\u001b[38;5;28;43mself\u001b[39;49m\u001b[38;5;241;43m.\u001b[39;49m\u001b[43moptions\u001b[49m\u001b[38;5;241;43m.\u001b[39;49m\u001b[43mget\u001b[49m\u001b[43m(\u001b[49m\u001b[38;5;124;43m\"\u001b[39;49m\u001b[38;5;124;43mmemory_map\u001b[39;49m\u001b[38;5;124;43m\"\u001b[39;49m\u001b[43m,\u001b[49m\u001b[43m \u001b[49m\u001b[38;5;28;43;01mFalse\u001b[39;49;00m\u001b[43m)\u001b[49m\u001b[43m,\u001b[49m\n\u001b[1;32m   1667\u001b[0m \u001b[43m    \u001b[49m\u001b[43mis_text\u001b[49m\u001b[38;5;241;43m=\u001b[39;49m\u001b[43mis_text\u001b[49m\u001b[43m,\u001b[49m\n\u001b[1;32m   1668\u001b[0m \u001b[43m    \u001b[49m\u001b[43merrors\u001b[49m\u001b[38;5;241;43m=\u001b[39;49m\u001b[38;5;28;43mself\u001b[39;49m\u001b[38;5;241;43m.\u001b[39;49m\u001b[43moptions\u001b[49m\u001b[38;5;241;43m.\u001b[39;49m\u001b[43mget\u001b[49m\u001b[43m(\u001b[49m\u001b[38;5;124;43m\"\u001b[39;49m\u001b[38;5;124;43mencoding_errors\u001b[39;49m\u001b[38;5;124;43m\"\u001b[39;49m\u001b[43m,\u001b[49m\u001b[43m \u001b[49m\u001b[38;5;124;43m\"\u001b[39;49m\u001b[38;5;124;43mstrict\u001b[39;49m\u001b[38;5;124;43m\"\u001b[39;49m\u001b[43m)\u001b[49m\u001b[43m,\u001b[49m\n\u001b[1;32m   1669\u001b[0m \u001b[43m    \u001b[49m\u001b[43mstorage_options\u001b[49m\u001b[38;5;241;43m=\u001b[39;49m\u001b[38;5;28;43mself\u001b[39;49m\u001b[38;5;241;43m.\u001b[39;49m\u001b[43moptions\u001b[49m\u001b[38;5;241;43m.\u001b[39;49m\u001b[43mget\u001b[49m\u001b[43m(\u001b[49m\u001b[38;5;124;43m\"\u001b[39;49m\u001b[38;5;124;43mstorage_options\u001b[39;49m\u001b[38;5;124;43m\"\u001b[39;49m\u001b[43m,\u001b[49m\u001b[43m \u001b[49m\u001b[38;5;28;43;01mNone\u001b[39;49;00m\u001b[43m)\u001b[49m\u001b[43m,\u001b[49m\n\u001b[1;32m   1670\u001b[0m \u001b[43m\u001b[49m\u001b[43m)\u001b[49m\n\u001b[1;32m   1671\u001b[0m \u001b[38;5;28;01massert\u001b[39;00m \u001b[38;5;28mself\u001b[39m\u001b[38;5;241m.\u001b[39mhandles \u001b[38;5;129;01mis\u001b[39;00m \u001b[38;5;129;01mnot\u001b[39;00m \u001b[38;5;28;01mNone\u001b[39;00m\n\u001b[1;32m   1672\u001b[0m f \u001b[38;5;241m=\u001b[39m \u001b[38;5;28mself\u001b[39m\u001b[38;5;241m.\u001b[39mhandles\u001b[38;5;241m.\u001b[39mhandle\n",
      "File \u001b[0;32m/Applications/anaconda3/envs/sigbert-env/lib/python3.8/site-packages/pandas/io/common.py:859\u001b[0m, in \u001b[0;36mget_handle\u001b[0;34m(path_or_buf, mode, encoding, compression, memory_map, is_text, errors, storage_options)\u001b[0m\n\u001b[1;32m    854\u001b[0m \u001b[38;5;28;01melif\u001b[39;00m \u001b[38;5;28misinstance\u001b[39m(handle, \u001b[38;5;28mstr\u001b[39m):\n\u001b[1;32m    855\u001b[0m     \u001b[38;5;66;03m# Check whether the filename is to be opened in binary mode.\u001b[39;00m\n\u001b[1;32m    856\u001b[0m     \u001b[38;5;66;03m# Binary mode does not support 'encoding' and 'newline'.\u001b[39;00m\n\u001b[1;32m    857\u001b[0m     \u001b[38;5;28;01mif\u001b[39;00m ioargs\u001b[38;5;241m.\u001b[39mencoding \u001b[38;5;129;01mand\u001b[39;00m \u001b[38;5;124m\"\u001b[39m\u001b[38;5;124mb\u001b[39m\u001b[38;5;124m\"\u001b[39m \u001b[38;5;129;01mnot\u001b[39;00m \u001b[38;5;129;01min\u001b[39;00m ioargs\u001b[38;5;241m.\u001b[39mmode:\n\u001b[1;32m    858\u001b[0m         \u001b[38;5;66;03m# Encoding\u001b[39;00m\n\u001b[0;32m--> 859\u001b[0m         handle \u001b[38;5;241m=\u001b[39m \u001b[38;5;28;43mopen\u001b[39;49m\u001b[43m(\u001b[49m\n\u001b[1;32m    860\u001b[0m \u001b[43m            \u001b[49m\u001b[43mhandle\u001b[49m\u001b[43m,\u001b[49m\n\u001b[1;32m    861\u001b[0m \u001b[43m            \u001b[49m\u001b[43mioargs\u001b[49m\u001b[38;5;241;43m.\u001b[39;49m\u001b[43mmode\u001b[49m\u001b[43m,\u001b[49m\n\u001b[1;32m    862\u001b[0m \u001b[43m            \u001b[49m\u001b[43mencoding\u001b[49m\u001b[38;5;241;43m=\u001b[39;49m\u001b[43mioargs\u001b[49m\u001b[38;5;241;43m.\u001b[39;49m\u001b[43mencoding\u001b[49m\u001b[43m,\u001b[49m\n\u001b[1;32m    863\u001b[0m \u001b[43m            \u001b[49m\u001b[43merrors\u001b[49m\u001b[38;5;241;43m=\u001b[39;49m\u001b[43merrors\u001b[49m\u001b[43m,\u001b[49m\n\u001b[1;32m    864\u001b[0m \u001b[43m            \u001b[49m\u001b[43mnewline\u001b[49m\u001b[38;5;241;43m=\u001b[39;49m\u001b[38;5;124;43m\"\u001b[39;49m\u001b[38;5;124;43m\"\u001b[39;49m\u001b[43m,\u001b[49m\n\u001b[1;32m    865\u001b[0m \u001b[43m        \u001b[49m\u001b[43m)\u001b[49m\n\u001b[1;32m    866\u001b[0m     \u001b[38;5;28;01melse\u001b[39;00m:\n\u001b[1;32m    867\u001b[0m         \u001b[38;5;66;03m# Binary mode\u001b[39;00m\n\u001b[1;32m    868\u001b[0m         handle \u001b[38;5;241m=\u001b[39m \u001b[38;5;28mopen\u001b[39m(handle, ioargs\u001b[38;5;241m.\u001b[39mmode)\n",
      "\u001b[0;31mFileNotFoundError\u001b[0m: [Errno 2] No such file or directory: '../data/data_real.csv'"
     ]
    }
   ],
   "source": [
    "df_OG = global_data_import(path_import = \"../data/data_real.csv\", nrows=None)"
   ]
  },
  {
   "cell_type": "code",
   "execution_count": null,
   "id": "221e69e5-3cc2-4713-bd52-d3605d4dcf6f",
   "metadata": {},
   "outputs": [],
   "source": [
    "df_OG = convert_date_columns(df_OG)\n",
    "df_OG['date_death'] = df_OG['date_death'] - pd.to_timedelta(100, unit='D')"
   ]
  },
  {
   "cell_type": "code",
   "execution_count": null,
   "id": "e435cc59-20b6-461a-9761-d046c1118480",
   "metadata": {},
   "outputs": [],
   "source": [
    "df_OG.head(3)"
   ]
  },
  {
   "cell_type": "code",
   "execution_count": null,
   "id": "283b8f69-6d93-4055-b2c0-9dfdef876bf9",
   "metadata": {},
   "outputs": [],
   "source": [
    "print_dataset_statistics(df_OG)"
   ]
  },
  {
   "cell_type": "code",
   "execution_count": null,
   "id": "fba051c3-2fab-4b99-a912-1549314cecad",
   "metadata": {},
   "outputs": [],
   "source": [
    "plot_report_distribution_per_patient(df_OG, export_path='../results/reports_per_patients.png')"
   ]
  },
  {
   "cell_type": "markdown",
   "id": "6d366b7a-d7a6-4e5a-97d4-39ac8357439f",
   "metadata": {},
   "source": [
    "# II) Training"
   ]
  },
  {
   "cell_type": "code",
   "execution_count": null,
   "id": "f5137afd",
   "metadata": {},
   "outputs": [],
   "source": [
    "Ndays = int((df_OG['date_end'] - df_OG['date_start']).min().days)\n",
    "print(f\"Ndays = {Ndays}\")\n",
    "\n",
    "# Imposes a maximum number of known reports\n",
    "max_reports = 221"
   ]
  },
  {
   "cell_type": "markdown",
   "id": "c2414b0f",
   "metadata": {},
   "source": [
    "### Train-Test Split"
   ]
  },
  {
   "cell_type": "code",
   "execution_count": null,
   "id": "0e323883-d231-4ac4-9a22-859d9a86f264",
   "metadata": {},
   "outputs": [],
   "source": [
    "df_train_new_OG, test_groups = make_train_test(df_OG)"
   ]
  },
  {
   "cell_type": "code",
   "execution_count": null,
   "id": "c36f53a1",
   "metadata": {},
   "outputs": [],
   "source": [
    "k_comp = 25\n",
    "_, R_comp = pca_compression(df_train_new_OG, k_comp, verbose = True)"
   ]
  },
  {
   "cell_type": "code",
   "execution_count": null,
   "id": "a96c9103-b0b8-4192-b7e6-2ae75ce1174f",
   "metadata": {},
   "outputs": [],
   "source": [
    "# Instance of results lists\n",
    "c_index_test_results = []\n",
    "df_survival_test_list = []\n",
    "lambda_l1_CV = 0.7"
   ]
  },
  {
   "cell_type": "code",
   "execution_count": null,
   "id": "8203606c-40c3-42cb-acb9-e4e0ebd77bc0",
   "metadata": {},
   "outputs": [],
   "source": [
    "df_all = df_OG.copy()"
   ]
  },
  {
   "cell_type": "code",
   "execution_count": null,
   "id": "8e94b29c-2598-4b2e-a615-1908b72ae671",
   "metadata": {},
   "outputs": [],
   "source": [
    "(\n",
    "    df_results,               # Summary DataFrame with metrics for the current max_reports setup\n",
    "    cph,                      # Trained Cox proportional hazards model\n",
    "    df_survival,              # Survival data (event, time, risk_score) for the training set\n",
    "    w_sk,                     # Risk scores for training patients\n",
    "    scores,                   # Signature feature importance scores\n",
    "    X,                        # Design matrix (features) used to train the model\n",
    "    y_train,                  # Target array for survival analysis (event, time) before preprocess\n",
    "    y_cox,                    # Target array for survival analysis (event, time)\n",
    "    c_index_train,            # C-index on the training set\n",
    "    c_index_test_list,        # List of C-index values on each test group\n",
    "    c_index_test_mean,        # Mean C-index across test groups\n",
    "    c_index_test_std,         # Standard deviation of C-index across test groups\n",
    "    df_survival_test_list     # List of survival DataFrames for each test group\n",
    ") = global_sigbert_process(\n",
    "    max_reports,\n",
    "    df_all,\n",
    "    df_train_new_OG,\n",
    "    test_groups,\n",
    "    R_comp,\n",
    "    lambda_l1_CV\n",
    ")"
   ]
  },
  {
   "cell_type": "code",
   "execution_count": null,
   "id": "08116b7b-8827-4996-9916-a24a45d3dd2d",
   "metadata": {},
   "outputs": [],
   "source": [
    "df_results"
   ]
  },
  {
   "cell_type": "markdown",
   "id": "9354abe0-4b51-40e9-ab26-4fe0b62a898c",
   "metadata": {},
   "source": [
    "## III) Results : Plots and metrics"
   ]
  },
  {
   "cell_type": "code",
   "execution_count": null,
   "id": "e510493a-833d-4aeb-b408-3e82942a1f86",
   "metadata": {},
   "outputs": [],
   "source": [
    "print(f\"Training c-index: {c_index_train:.3f}.\")\n",
    "print(f\"Validation c-index: {c_index_test_mean:.3f} (sd {c_index_test_std:.4f}).\")"
   ]
  },
  {
   "cell_type": "code",
   "execution_count": null,
   "id": "e7d96f46-6e56-4fd6-bf66-be32170e8864",
   "metadata": {},
   "outputs": [],
   "source": [
    "lower_bound, upper_bound = jackknife_confidence_interval(c_index_test_list)\n",
    "\n",
    "# Affichage des résultats\n",
    "print(f\"Jackknife Confidence Interval (95%): [{lower_bound:.4f}, {upper_bound:.4f}]\")"
   ]
  },
  {
   "cell_type": "code",
   "execution_count": null,
   "id": "05ab7b23-9d5f-4d07-9f73-5afb017e6598",
   "metadata": {},
   "outputs": [],
   "source": [
    "df_survival_test_overall = pd.concat(\n",
    "[df_survival_test_list[i] for i in range(len(test_groups))],\n",
    "    axis=0\n",
    ")"
   ]
  },
  {
   "cell_type": "code",
   "execution_count": null,
   "id": "e7a6eb11-8b28-460a-8268-106952c6fcb4",
   "metadata": {},
   "outputs": [],
   "source": [
    "df_survival_all = pd.concat([df_survival, df_survival_test_overall])"
   ]
  },
  {
   "cell_type": "code",
   "execution_count": null,
   "id": "c720877c-4ede-42fb-b1c2-bea3ffb7a67e",
   "metadata": {},
   "outputs": [],
   "source": [
    "df_label, _ = plot_risk_score_distribution_by_event(\n",
    "    df_survival_all,\n",
    "    export_plot=\"../results/risk_score_distribution.png\",\n",
    "    use_ttest=False\n",
    ")"
   ]
  },
  {
   "cell_type": "code",
   "execution_count": null,
   "id": "b3601f8c-d459-43f5-b82c-b5ea41ade03c",
   "metadata": {},
   "outputs": [],
   "source": [
    "results_corr, summary_corr = evaluate_correlation(df_survival_test_list, verbose=True)"
   ]
  },
  {
   "cell_type": "code",
   "execution_count": null,
   "id": "1b83a3fc-c3fb-466a-8886-22bed6703c14",
   "metadata": {},
   "outputs": [],
   "source": [
    "results_KM_pairwise, results_KM_global, quartile_groups = plot_km_by_risk_quartiles(\n",
    "    df_survival_test_overall,\n",
    "    export_fig=True,\n",
    "    path_export_fig=\"../results/KM_by_quartiles.png\",\n",
    "    time_max_days=3650\n",
    ")"
   ]
  },
  {
   "cell_type": "code",
   "execution_count": null,
   "id": "b668f6fd-1910-4118-89b8-2ce516e90a89",
   "metadata": {},
   "outputs": [],
   "source": [
    "# Assign quartiles to the DataFrame\n",
    "df_survival_test_overall[\"Quartile\"] = pd.qcut(\n",
    "    df_survival_test_overall[\"risk_score\"],\n",
    "    q=4,\n",
    "    labels=[\"Q1 (Low)\", \"Q2\", \"Q3\", \"Q4\"]\n",
    ")\n",
    "\n",
    "# Now call the plotting function\n",
    "anova_pval, kruskal_pval = plot_boxplot_log_time_by_quartile(\n",
    "    df_survival=df_survival_test_overall, \n",
    "    quartile_groups=quartile_groups, \n",
    "    export_fig=True, \n",
    "    path_export_fig=\"../results/boxplot_log_time.png\", \n",
    "    print_median_time=True\n",
    ")"
   ]
  },
  {
   "cell_type": "markdown",
   "id": "644af9d1-7daf-45ef-be2a-f4ec87cb1e47",
   "metadata": {},
   "source": [
    "### td-AUC"
   ]
  },
  {
   "cell_type": "code",
   "execution_count": null,
   "id": "e60ef2d8-2aaf-4951-833b-9199ca24552d",
   "metadata": {},
   "outputs": [],
   "source": [
    "mean_auc_list, mean_auc_per_time, std_auc_per_time, times = plot_dynamic_auc(\n",
    "    y_train,\n",
    "    df_survival_test_list,\n",
    "    test_groups,\n",
    "    export_fig = '../results/time-dep-AUC-curves.png'\n",
    ")"
   ]
  },
  {
   "cell_type": "markdown",
   "id": "bfe8fd5e-5d94-40d9-9a83-67f47e3e7fde",
   "metadata": {},
   "source": [
    "### Brier Score"
   ]
  },
  {
   "cell_type": "code",
   "execution_count": null,
   "id": "f2c91521-7e65-444f-b67e-e287a12c0e9b",
   "metadata": {},
   "outputs": [],
   "source": [
    "# Définir les temps d’évaluation\n",
    "evaluation_times = np.linspace(100, 3650, 100)\n",
    "\n",
    "# Ajouter des jalons cliniques\n",
    "evaluation_times = np.sort(np.unique(np.concatenate((\n",
    "    evaluation_times,\n",
    "    [365, 730, 1095, 1825, 3650]\n",
    "))))\n",
    "\n",
    "# Appeler la méthode\n",
    "brier_scores_array, bs_mean, bs_std, bs_upper, bs_lower = evaluate_brier_score_multiple_tests(\n",
    "    df_survival_test_list=df_survival_test_list,\n",
    "    cph=cph,\n",
    "    evaluation_times=evaluation_times,\n",
    "    brier_score_function=brier_score_ipcw_with_cph,\n",
    "    export_fig=True,\n",
    "    path_export_fig=\"../results/brier_score_tests.png\",\n",
    "    verbose=True\n",
    ")"
   ]
  },
  {
   "cell_type": "code",
   "execution_count": null,
   "id": "961318de-9ecd-4f23-82de-54e2642b1461",
   "metadata": {},
   "outputs": [],
   "source": [
    "times_of_interest = [365, 701, 1095, 1825, 3650]\n",
    "\n",
    "bs_results = summarize_brier_scores_at_times(\n",
    "    evaluation_times=evaluation_times,\n",
    "    bs_mean=bs_mean,\n",
    "    bs_lower=bs_lower,\n",
    "    bs_upper=bs_upper,\n",
    "    times_of_interest=times_of_interest,\n",
    "    verbose=True\n",
    ")"
   ]
  },
  {
   "cell_type": "code",
   "execution_count": null,
   "id": "ad2081e6-0b96-4e02-904c-1e4dbb04ead9",
   "metadata": {},
   "outputs": [],
   "source": [
    "ibs_results = compute_and_plot_ibs_with_ci(\n",
    "    evaluation_times=evaluation_times,\n",
    "    bs_mean=bs_mean,\n",
    "    bs_lower=bs_lower,\n",
    "    bs_upper=bs_upper,\n",
    "    times_of_interest=[365, 701, 1095, 1825, 3650],\n",
    "    plot_baseline=0.25,\n",
    "    verbose=True\n",
    ")"
   ]
  },
  {
   "cell_type": "markdown",
   "id": "29735505-aa70-4ec0-8bc9-53950358c46a",
   "metadata": {},
   "source": [
    "## Validation C-index by number of known reports on our true cohort"
   ]
  },
  {
   "cell_type": "code",
   "execution_count": null,
   "id": "98e80f51-bd79-437f-8689-9f4508524d58",
   "metadata": {},
   "outputs": [],
   "source": [
    "df_combined = pd.read_csv('../results/c-index_by_nbr_reports_on_true_data.csv')"
   ]
  },
  {
   "cell_type": "code",
   "execution_count": null,
   "id": "2d56c3ee-b457-41f2-ad8d-b8443454b1e4",
   "metadata": {},
   "outputs": [],
   "source": [
    "plot_smoothed_cindex_by_report_count(df_combined, export_path ='../results/Mean_Cindex_by_reports.png')"
   ]
  },
  {
   "cell_type": "code",
   "execution_count": null,
   "id": "d0d84961-0cdc-439f-a7da-f332790f2b96",
   "metadata": {},
   "outputs": [],
   "source": [
    "duration_notebook = time.time() - start_notebook\n",
    "print(f\" NoteBook total duration: {duration_notebook:.2f}s i.e. {duration_notebook / 60:.2f}min.\")"
   ]
  }
 ],
 "metadata": {
  "kernelspec": {
   "display_name": "Python 3 (ipykernel)",
   "language": "python",
   "name": "python3"
  },
  "language_info": {
   "codemirror_mode": {
    "name": "ipython",
    "version": 3
   },
   "file_extension": ".py",
   "mimetype": "text/x-python",
   "name": "python",
   "nbconvert_exporter": "python",
   "pygments_lexer": "ipython3",
   "version": "3.8.20"
  },
  "vscode": {
   "interpreter": {
    "hash": "daf280de155aa79ff4dc003da54ee1ffa56017c0e371c9885c08a7947b1313a3"
   }
  }
 },
 "nbformat": 4,
 "nbformat_minor": 5
}
